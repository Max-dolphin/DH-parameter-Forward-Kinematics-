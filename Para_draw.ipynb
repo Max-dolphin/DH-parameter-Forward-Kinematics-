{
  "nbformat": 4,
  "nbformat_minor": 0,
  "metadata": {
    "colab": {
      "name": "Para draw.ipynb",
      "provenance": [],
      "authorship_tag": "ABX9TyNkFn8CFQ1XzTkSLTNcA+YB",
      "include_colab_link": true
    },
    "kernelspec": {
      "name": "python3",
      "display_name": "Python 3"
    }
  },
  "cells": [
    {
      "cell_type": "markdown",
      "metadata": {
        "id": "view-in-github",
        "colab_type": "text"
      },
      "source": [
        "<a href=\"https://colab.research.google.com/github/Sam-dolphin/DH-parameter-Forward-Kinematics-/blob/master/Para_draw.ipynb\" target=\"_parent\"><img src=\"https://colab.research.google.com/assets/colab-badge.svg\" alt=\"Open In Colab\"/></a>"
      ]
    },
    {
      "cell_type": "code",
      "metadata": {
        "id": "wMQR7-3lPxxa",
        "colab_type": "code",
        "colab": {
          "base_uri": "https://localhost:8080/",
          "height": 445
        },
        "outputId": "4591dd07-8ce1-482a-d383-8d923db0f9a7"
      },
      "source": [
        " \n",
        "# Drawing 2D Geometric by Parametric representation\n",
        "import numpy as np\n",
        "import matplotlib.pyplot as plt\n",
        "print ('* * * Drawing 2D Geometric by Parametric representation * * *')\n",
        "print ('Select one of the following :' ,'\\n 1.Line ' , '\\n  2.Circle ' , '\\n    3.Semi-Circle ' , '\\n   4.Quarter-Circle ' , '\\n    5.Ellipse ' , '\\n   6.Parabola ' , '\\n  7.Hyperbola')\n",
        "while True :\n",
        "  choice = input ('Enter your choice :')\n",
        "  if choice in ('1','2','3','4','5','6','7'):\n",
        "         if choice == '1' :\n",
        "            x1 = float(input(\"Enter x-coordinates of first point: \" ))\n",
        " \n",
        "            y1 = float(input(\"Enter y-coordinates of first point: \" ))\n",
        " \n",
        "            x2= float(input(\"Enter x-coordinates of end point: \" ))\n",
        " \n",
        "            y2 = float(input(\"Enter y-coordinates of end point: \" ))\n",
        "            a = np.arange(0, 1 , 0.01)\n",
        "            plt.plot((a *x2 + (1-a)* x1), (a *y2 + (1-a)* y1))\n",
        "            plt.show()\n",
        "         elif choice == '2' :\n",
        "            r = float (input('Enter radius :'))\n",
        "            t = np.linspace(0, 2*np.pi, 100)\n",
        "            plt.plot(r*np.cos(t) , r*np.sin(t))\n",
        "            plt.title('Circle')\n",
        "            plt.axhline(0, alpha=.1)\n",
        "            plt.axvline(0, alpha=.1)\n",
        "            plt.xlabel(r)\n",
        "            plt.ylabel(r)\n",
        "            plt.show()\n",
        "         elif choice == '3' :\n",
        "            r = float (input('Enter radius :'))\n",
        "            t = np.linspace(-1000, 1000,100000)\n",
        "            plt.plot(r*np.sqrt(2)*np.sin(t/2),r*np.sqrt(np.cos(t)))\n",
        "            plt.title('Semi-Circle')\n",
        "            plt.axhline(0, alpha=.1)\n",
        "            plt.axvline(0, alpha=.1)\n",
        "            plt.xlabel(r)\n",
        "            plt.ylabel(r)\n",
        "            plt.show()\n",
        "         elif choice == '4' :\n",
        "            r = float (input('Enter radius :'))\n",
        "            t = np.linspace(0, (np.pi/2),1000)\n",
        "            plt.plot(r*np.sqrt(2)*np.sin(t/2),r*np.sqrt(np.cos(t)))\n",
        "            plt.title('Quarter-Circle')\n",
        "            plt.axhline(0, alpha=.1)\n",
        "            plt.axvline(0, alpha=.1)\n",
        "            plt.xlabel(r)\n",
        "            plt.ylabel(r)\n",
        "            plt.show()\n",
        "         elif choice == '5' :\n",
        "            a = float (input('Enter axis 1 :'))\n",
        "            b = float (input('Enter axis 2 :'))\n",
        "            t = np.linspace(0, 2*np.pi, 100)\n",
        "            plt.plot(a*np.cos(t) , b*np.sin(t))\n",
        "            plt.title('Ellipse')\n",
        "            plt.axhline(0, alpha=.1)\n",
        "            plt.axvline(0, alpha=.1)\n",
        "            plt.xlabel (2*a)\n",
        "            plt.ylabel(2*b)\n",
        "            plt.show()\n",
        "         elif choice == '6':\n",
        "            a = float (input('Enter slope :'))\n",
        "            t = np.linspace((-np.pi),(np.pi),100)\n",
        "            fig,ax= plt.subplots(2)\n",
        "            ax[0].set_title('y=mx^2')\n",
        "            ax[0].plot(2*a*t, a*t**2)\n",
        "            ax[1].set_title('x=my^2')\n",
        "            ax[1].plot (a*t**2,2*a*t)\n",
        "            plt.show()\n",
        "         elif choice == '7' :\n",
        "            a = float (input('Enter a value :'))\n",
        "            b = float (input('Enter b value :'))\n",
        "            x = np.linspace(-10, 10, 400)\n",
        "            y = np.linspace(-10, 10, 400)\n",
        "            x, y = np.meshgrid(x, y)\n",
        "            plt.axhline(0, alpha=.1)\n",
        "            plt.axvline(0, alpha=.1)\n",
        "            plt.contour(x, y,(x**2/a**2 - y**2/b**2),[1])\n",
        "            plt.show()\n",
        "         break\n",
        "else :\n",
        "    print ('Invalid input')"
      ],
      "execution_count": 2,
      "outputs": [
        {
          "output_type": "stream",
          "text": [
            "* * * Drawing 2D Geometric by Parametric representation * * *\n",
            "Select one of the following : \n",
            " 1.Line  \n",
            "  2.Circle  \n",
            "    3.Semi-Circle  \n",
            "   4.Quarter-Circle  \n",
            "    5.Ellipse  \n",
            "   6.Parabola  \n",
            "  7.Hyperbola\n",
            "Enter your choice :2\n",
            "Enter radius :3\n"
          ],
          "name": "stdout"
        },
        {
          "output_type": "display_data",
          "data": {
            "image/png": "[encoded data removed]",
            "text/plain": [
              "<Figure size 432x288 with 1 Axes>"
            ]
          },
          "metadata": {
            "tags": [],
            "needs_background": "light"
          }
        }
      ]
    },
    {
      "cell_type": "code",
      "metadata": {
        "id": "lQNe1hJFUJmx",
        "colab_type": "code",
        "colab": {
          "base_uri": "https://localhost:8080/",
          "height": 479
        },
        "outputId": "9cffc794-9061-46bb-ee93-42e315a34b75"
      },
      "source": [
        " \n",
        "# Drawing 2D Geometric by Parametric representation\n",
        "import numpy as np\n",
        "import matplotlib.pyplot as plt\n",
        "print ('* * * Drawing 2D Geometric by Parametric representation * * *')\n",
        "print ('Select one of the following :' ,'\\n1.Line ' , '\\n2.Circle ' , '\\n3.Semi-Circle ' , '\\n4.Quarter-Circle ' , '\\n5.Ellipse ' , '\\n6.Parabola ' , '\\n7.Hyperbola')\n",
        "while True :\n",
        "  choice = input ('Enter your choice :')\n",
        "  if choice in ('1','2','3','4','5','6','7'):\n",
        "         if choice == '1' :\n",
        "            #line\n",
        "            x1 = float(input(\"Enter x-coordinates of first point: \" ))\n",
        " \n",
        "            y1 = float(input(\"Enter y-coordinates of first point: \" ))\n",
        " \n",
        "            x2= float(input(\"Enter x-coordinates of end point: \" ))\n",
        " \n",
        "            y2 = float(input(\"Enter y-coordinates of end point: \" ))\n",
        "            a = np.arange(0, 1 , 0.01)\n",
        "            plt.plot((a *x2 + (1-a)* x1), (a *y2 + (1-a)* y1))\n",
        "            plt.show()\n",
        "         elif choice == '2' :\n",
        "            r = float (input('Enter radius :'))\n",
        "            t = np.linspace(0, 2*np.pi, 100)\n",
        "            plt.plot(r*np.cos(t) , r*np.sin(t))\n",
        "            plt.title('Circle')\n",
        "            plt.axhline(0, alpha=.1)\n",
        "            plt.axvline(0, alpha=.1)\n",
        "            plt.xlabel(r)\n",
        "            plt.ylabel(r)\n",
        "            plt.show()\n",
        "         elif choice == '3' :\n",
        "            r = float (input('Enter radius :'))\n",
        "            t = np.linspace(-1000, 1000,100000)\n",
        "            plt.plot(r*np.sqrt(2)*np.sin(t/2),r*np.sqrt(np.cos(t)))\n",
        "            plt.title('Semi-Circle')\n",
        "            plt.axhline(0, alpha=.1)\n",
        "            plt.axvline(0, alpha=.1)\n",
        "            plt.xlabel(r)\n",
        "            plt.ylabel(r)\n",
        "            plt.show()\n",
        "         elif choice == '4' :\n",
        "            r = float (input('Enter radius :'))\n",
        "            t = np.linspace(0, (np.pi/2),1000)\n",
        "            plt.plot(r*np.sqrt(2)*np.sin(t/2),r*np.sqrt(np.cos(t)))\n",
        "            plt.title('Quarter-Circle')\n",
        "            plt.axhline(0, alpha=.1)\n",
        "            plt.axvline(0, alpha=.1)\n",
        "            plt.xlabel(r)\n",
        "            plt.ylabel(r)\n",
        "            plt.show()\n",
        "         elif choice == '5' :\n",
        "            a = float (input('Enter axis 1 :'))\n",
        "            b = float (input('Enter axis 2 :'))\n",
        "            t = np.linspace(0, 2*np.pi, 100)\n",
        "            plt.plot(a*np.cos(t) , b*np.sin(t))\n",
        "            plt.title('Ellipse')\n",
        "            plt.axhline(0, alpha=.1)\n",
        "            plt.axvline(0, alpha=.1)\n",
        "            plt.xlabel (2*a)\n",
        "            plt.ylabel(2*b)\n",
        "            plt.show()\n",
        "         elif choice == '6':\n",
        "            a = float (input('Enter slope :'))\n",
        "            t = np.linspace((-np.pi),(np.pi),100)\n",
        "            fig,ax= plt.subplots(2)\n",
        "            ax[0].set_title('y=mx^2')\n",
        "            ax[0].plot(2*a*t, a*t**2)\n",
        "            ax[1].set_title('x=my^2')\n",
        "            ax[1].plot (a*t**2,2*a*t)\n",
        "            plt.show()\n",
        "         elif choice == '7' :\n",
        "            a = float (input('Enter a value :'))\n",
        "            b = float (input('Enter b value :'))\n",
        "            x = np.linspace(-10, 10, 400)\n",
        "            y = np.linspace(-10, 10, 400)\n",
        "            x, y = np.meshgrid(x, y)\n",
        "            plt.axhline(0, alpha=.1)\n",
        "            plt.axvline(0, alpha=.1)\n",
        "            plt.subplot(1,2,1)\n",
        "            plt.title('-x')\n",
        "            c = plt.contour(x, y,(x**2/a**2 - y**2/b**2), [1])\n",
        "            plt.subplot(1,2,2)\n",
        "            plt.title('-y')\n",
        "            c = plt.contour(x, y,(-x**2/a**2 + y**2/b**2), [1])\n",
        "            plt.show()\n",
        "         break\n",
        "else :\n",
        "    print ('Invalid input')"
      ],
      "execution_count": 4,
      "outputs": [
        {
          "output_type": "stream",
          "text": [
            "* * * Drawing 2D Geometric by Parametric representation * * *\n",
            "Select one of the following : \n",
            "1.Line  \n",
            "2.Circle  \n",
            "3.Semi-Circle  \n",
            "4.Quarter-Circle  \n",
            "5.Ellipse  \n",
            "6.Parabola  \n",
            "7.Hyperbola\n",
            "Enter your choice :1\n",
            "Enter x-coordinates of first point: 5\n",
            "Enter y-coordinates of first point: 6\n",
            "Enter x-coordinates of end point: -6\n",
            "Enter y-coordinates of end point: 7\n"
          ],
          "name": "stdout"
        },
        {
          "output_type": "display_data",
          "data": {
            "image/png": "[encoded data removed]",
            "text/plain": [
              "<Figure size 432x288 with 1 Axes>"
            ]
          },
          "metadata": {
            "tags": [],
            "needs_background": "light"
          }
        }
      ]
    }
  ]
}